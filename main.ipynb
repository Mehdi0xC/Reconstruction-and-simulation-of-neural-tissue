{
 "cells": [
  {
   "cell_type": "markdown",
   "metadata": {},
   "source": [
    "# Optimizing the parameters of a ball-and-stick model"
   ]
  },
  {
   "cell_type": "markdown",
   "metadata": {},
   "source": [
    "This notebook is under a LGPLv3 license."
   ]
  },
  {
   "cell_type": "code",
   "execution_count": 5,
   "metadata": {},
   "outputs": [],
   "source": [
    "import os\n",
    "os.unsetenv('PYTHONHOME') # Solve an issue with NEURON simulator import\n",
    "\n",
    "%matplotlib inline\n",
    "import matplotlib.pyplot as plt\n",
    "%load_ext autoreload\n",
    "%autoreload"
   ]
  },
  {
   "cell_type": "code",
   "execution_count": 10,
   "metadata": {},
   "outputs": [],
   "source": [
    "import bluepyopt\n",
    "import bluepyopt.ephys as ephys"
   ]
  },
  {
   "cell_type": "code",
   "execution_count": 11,
   "metadata": {},
   "outputs": [],
   "source": [
    "# Adding a Morphology\n",
    "morph_swc_string = \"\"\"\n",
    "1 1 0.0 0.0 -10.0 10.0 -1                                                        \n",
    "2 1 0.0 0.0 0.0 10.0 1                                                           \n",
    "3 1 0.0 0.0 10.0 10.0 2                                                          \n",
    "4 3 0.0 10.0 0.0 2.0 2                                                           \n",
    "5 3 0.0 110.0 0.0 2.0 4\n",
    "\"\"\"\n",
    "with open('ballandstick.swc', 'w') as swc_file:\n",
    "    swc_file.write(morph_swc_string)"
   ]
  },
  {
   "cell_type": "code",
   "execution_count": 12,
   "metadata": {},
   "outputs": [
    {
     "data": {
      "image/png": "[encoded data removed]",
      "text/plain": [
       "<Figure size 432x288 with 1 Axes>"
      ]
     },
     "metadata": {
      "needs_background": "light"
     },
     "output_type": "display_data"
    }
   ],
   "source": [
    "import neurom\n",
    "import neurom.viewer\n",
    "fig, ax = neurom.viewer.draw(neurom.load_neuron('ballandstick.swc'))"
   ]
  },
  {
   "cell_type": "code",
   "execution_count": 13,
   "metadata": {},
   "outputs": [],
   "source": [
    "# Adding the morphology\n",
    "morph = bluepyopt.ephys.morphologies.NrnFileMorphology('ballandstick.swc')"
   ]
  },
  {
   "cell_type": "code",
   "execution_count": 14,
   "metadata": {},
   "outputs": [],
   "source": [
    "# Creating location objects\n",
    "somatic_loc = ephys.locations.NrnSeclistLocation('somatic', seclist_name='somatic')\n",
    "dend_loc = ephys.locations.NrnSeclistLocation('basal', seclist_name='basal')"
   ]
  },
  {
   "cell_type": "code",
   "execution_count": 15,
   "metadata": {},
   "outputs": [],
   "source": [
    "# Creating an HH mechanism and adding it to locations\n",
    "hh_mech = ephys.mechanisms.NrnMODMechanism(\n",
    "        name='hh',\n",
    "        suffix='hh',\n",
    "        locations=[somatic_loc, dend_loc])"
   ]
  },
  {
   "cell_type": "markdown",
   "metadata": {},
   "source": [
    "Let's define first a parameter that sets the specific capacitance of soma and dendrites to a frozen value. In this tutorial we'll focus on optimizing the parameters the soma. So we also fix the leakage conductance of the dendrite, and we make it passive by disabling the Na and K conductances."
   ]
  },
  {
   "cell_type": "code",
   "execution_count": 16,
   "metadata": {},
   "outputs": [],
   "source": [
    "# Creating parameters\n",
    "cm = ephys.parameters.NrnSectionParameter(\n",
    "        name='cm',\n",
    "        param_name='cm',\n",
    "        value=1.0, # in microfarad/cm2\n",
    "        locations=[somatic_loc, dend_loc],\n",
    "        frozen=True)\n",
    "\n",
    "\n",
    "# Fix leak conductance dendrite\n",
    "gl_dend = ephys.parameters.NrnSectionParameter(\n",
    "        name='gl_dend',\n",
    "        param_name='gl_hh',\n",
    "        value=1e-5,\n",
    "        locations=[dend_loc],\n",
    "        frozen=True)\n",
    "\n",
    "# Disable Na and K\n",
    "gnabar_dend = ephys.parameters.NrnSectionParameter(                                    \n",
    "        name='gnabar_hh_dend',\n",
    "        param_name='gnabar_hh',\n",
    "        locations=[dend_loc],\n",
    "        value=0,\n",
    "        frozen=True)   \n",
    "\n",
    "gkbar_dend = ephys.parameters.NrnSectionParameter(\n",
    "        name='gkbar_hh_dend',\n",
    "        param_name='gkbar_hh',\n",
    "        value=0,\n",
    "        locations=[dend_loc],\n",
    "        frozen=True)\n",
    "\n"
   ]
  },
  {
   "cell_type": "code",
   "execution_count": 17,
   "metadata": {},
   "outputs": [],
   "source": [
    "# set the bounds for the maximal conductances of the sodium and potassium channels in the soma\n",
    "gnabar_soma = ephys.parameters.NrnSectionParameter(                                    \n",
    "        name='gnabar_soma',\n",
    "        param_name='gnabar_hh',\n",
    "        locations=[somatic_loc],\n",
    "        bounds=[0.0, 1.0],\n",
    "        frozen=False)     \n",
    "gkbar_soma = ephys.parameters.NrnSectionParameter(\n",
    "        name='gkbar_soma',\n",
    "        param_name='gkbar_hh',\n",
    "        bounds=[0.0, 1.0],\n",
    "        locations=[somatic_loc],\n",
    "        frozen=False)"
   ]
  },
  {
   "cell_type": "code",
   "execution_count": null,
   "metadata": {},
   "outputs": [],
   "source": []
  }
 ],
 "metadata": {
  "kernelspec": {
   "display_name": "Python 3",
   "language": "python",
   "name": "python3"
  },
  "language_info": {
   "codemirror_mode": {
    "name": "ipython",
    "version": 3
   },
   "file_extension": ".py",
   "mimetype": "text/x-python",
   "name": "python",
   "nbconvert_exporter": "python",
   "pygments_lexer": "ipython3",
   "version": "3.8.3"
  }
 },
 "nbformat": 4,
 "nbformat_minor": 4
}
